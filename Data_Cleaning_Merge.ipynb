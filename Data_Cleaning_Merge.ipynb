{
 "cells": [
  {
   "cell_type": "code",
   "execution_count": 2,
   "id": "ff3b3bf6",
   "metadata": {},
   "outputs": [],
   "source": [
    "import pandas as pd"
   ]
  },
  {
   "cell_type": "code",
   "execution_count": 3,
   "id": "84f00d50",
   "metadata": {},
   "outputs": [],
   "source": [
    "df1 = pd.read_csv(\"C:\\\\Users\\\\Lenovo\\\\Downloads\\\\PROJECT\\\\CARS24\\\\PROJECT_CARS24_DATA_CSV_FILE_1\\\\Car24_data_new_delhi1.csv\")"
   ]
  },
  {
   "cell_type": "code",
   "execution_count": 4,
   "id": "6484d6f5",
   "metadata": {},
   "outputs": [],
   "source": [
    "df2 = pd.read_csv(\"C:\\\\Users\\\\Lenovo\\\\Downloads\\\\PROJECT\\\\CARS24\\\\PROJECT_CARS24_DATA_CSV_FILE_1\\\\Car24_data_BANGALORE1.csv\")"
   ]
  },
  {
   "cell_type": "code",
   "execution_count": 5,
   "id": "e0ddb4d6",
   "metadata": {},
   "outputs": [],
   "source": [
    "df3 = pd.read_csv(\"C:\\\\Users\\\\Lenovo\\\\Downloads\\\\PROJECT\\\\CARS24\\\\PROJECT_CARS24_DATA_CSV_FILE_1\\\\Car24_data_delhi-ncr1.csv\")"
   ]
  },
  {
   "cell_type": "code",
   "execution_count": 6,
   "id": "c8746bf9",
   "metadata": {},
   "outputs": [],
   "source": [
    "table = pd.concat([df1,df2,df3],axis = 0)"
   ]
  },
  {
   "cell_type": "code",
   "execution_count": 7,
   "id": "a3c20caa",
   "metadata": {},
   "outputs": [
    {
     "data": {
      "text/plain": [
       "Index(['CAR_NAME', 'BRAND', 'SUB_BRAND', 'MODAL_YEAR', 'AMOUNT', 'FUEL_TYPE',\n",
       "       'DIS_COVERED', 'EMI_AMOUNT', 'Operate', 'Location'],\n",
       "      dtype='object')"
      ]
     },
     "execution_count": 7,
     "metadata": {},
     "output_type": "execute_result"
    }
   ],
   "source": [
    "table.columns"
   ]
  },
  {
   "cell_type": "code",
   "execution_count": 8,
   "id": "61c1a4ae",
   "metadata": {},
   "outputs": [],
   "source": [
    "table2 = table[[ 'CAR_NAME', 'BRAND', 'SUB_BRAND', 'MODAL_YEAR', 'AMOUNT',\n",
    "       'FUEL_TYPE', 'DIS_COVERED', 'EMI_AMOUNT', 'Operate',\"Location\"]]"
   ]
  },
  {
   "cell_type": "code",
   "execution_count": 9,
   "id": "88fa636b",
   "metadata": {},
   "outputs": [
    {
     "data": {
      "text/html": [
       "<div>\n",
       "<style scoped>\n",
       "    .dataframe tbody tr th:only-of-type {\n",
       "        vertical-align: middle;\n",
       "    }\n",
       "\n",
       "    .dataframe tbody tr th {\n",
       "        vertical-align: top;\n",
       "    }\n",
       "\n",
       "    .dataframe thead th {\n",
       "        text-align: right;\n",
       "    }\n",
       "</style>\n",
       "<table border=\"1\" class=\"dataframe\">\n",
       "  <thead>\n",
       "    <tr style=\"text-align: right;\">\n",
       "      <th></th>\n",
       "      <th>CAR_NAME</th>\n",
       "      <th>BRAND</th>\n",
       "      <th>SUB_BRAND</th>\n",
       "      <th>MODAL_YEAR</th>\n",
       "      <th>AMOUNT</th>\n",
       "      <th>FUEL_TYPE</th>\n",
       "      <th>DIS_COVERED</th>\n",
       "      <th>EMI_AMOUNT</th>\n",
       "      <th>Operate</th>\n",
       "      <th>Location</th>\n",
       "    </tr>\n",
       "  </thead>\n",
       "  <tbody>\n",
       "    <tr>\n",
       "      <th>0</th>\n",
       "      <td>2016 Maruti Alto 800 LXI</td>\n",
       "      <td>Maruti</td>\n",
       "      <td>Alto</td>\n",
       "      <td>2016</td>\n",
       "      <td>241000</td>\n",
       "      <td>PETROL</td>\n",
       "      <td>97698</td>\n",
       "      <td>4,712</td>\n",
       "      <td>MANUAL</td>\n",
       "      <td>New Delhi</td>\n",
       "    </tr>\n",
       "    <tr>\n",
       "      <th>1</th>\n",
       "      <td>2015 Maruti Swift VXI</td>\n",
       "      <td>Maruti</td>\n",
       "      <td>Swift</td>\n",
       "      <td>2015</td>\n",
       "      <td>333000</td>\n",
       "      <td>PETROL</td>\n",
       "      <td>102460</td>\n",
       "      <td>7,407</td>\n",
       "      <td>MANUAL</td>\n",
       "      <td>New Delhi</td>\n",
       "    </tr>\n",
       "    <tr>\n",
       "      <th>2</th>\n",
       "      <td>2019 Maruti Baleno DELTA PETROL 1.2</td>\n",
       "      <td>Maruti</td>\n",
       "      <td>Baleno</td>\n",
       "      <td>2019</td>\n",
       "      <td>557000</td>\n",
       "      <td>PETROL</td>\n",
       "      <td>35190</td>\n",
       "      <td>10,889</td>\n",
       "      <td>MANUAL</td>\n",
       "      <td>New Delhi</td>\n",
       "    </tr>\n",
       "    <tr>\n",
       "      <th>3</th>\n",
       "      <td>2020 Mahindra XUV300 W8 (O) 1.5 DIESEL AMT</td>\n",
       "      <td>Mahindra</td>\n",
       "      <td>XUV300</td>\n",
       "      <td>2020</td>\n",
       "      <td>898000</td>\n",
       "      <td>DIESEL</td>\n",
       "      <td>64038</td>\n",
       "      <td>17,093</td>\n",
       "      <td>AUTOMATIC</td>\n",
       "      <td>New Delhi</td>\n",
       "    </tr>\n",
       "    <tr>\n",
       "      <th>4</th>\n",
       "      <td>2017 Tata NEXON XZ PLUS PETROL</td>\n",
       "      <td>Tata</td>\n",
       "      <td>NEXON</td>\n",
       "      <td>2017</td>\n",
       "      <td>602000</td>\n",
       "      <td>PETROL</td>\n",
       "      <td>82375</td>\n",
       "      <td>11,769</td>\n",
       "      <td>MANUAL</td>\n",
       "      <td>New Delhi</td>\n",
       "    </tr>\n",
       "    <tr>\n",
       "      <th>...</th>\n",
       "      <td>...</td>\n",
       "      <td>...</td>\n",
       "      <td>...</td>\n",
       "      <td>...</td>\n",
       "      <td>...</td>\n",
       "      <td>...</td>\n",
       "      <td>...</td>\n",
       "      <td>...</td>\n",
       "      <td>...</td>\n",
       "      <td>...</td>\n",
       "    </tr>\n",
       "    <tr>\n",
       "      <th>883</th>\n",
       "      <td>2018 Maruti IGNIS DELTA 1.2</td>\n",
       "      <td>Maruti</td>\n",
       "      <td>IGNIS</td>\n",
       "      <td>2018</td>\n",
       "      <td>424000</td>\n",
       "      <td>PETROL</td>\n",
       "      <td>29766</td>\n",
       "      <td>8,289</td>\n",
       "      <td>MANUAL</td>\n",
       "      <td>Delhi NCR</td>\n",
       "    </tr>\n",
       "    <tr>\n",
       "      <th>884</th>\n",
       "      <td>2013 Hyundai Verna FLUIDIC 1.4 VTVT</td>\n",
       "      <td>Hyundai</td>\n",
       "      <td>Verna</td>\n",
       "      <td>2013</td>\n",
       "      <td>356000</td>\n",
       "      <td>PETROL</td>\n",
       "      <td>37454</td>\n",
       "      <td>9,375</td>\n",
       "      <td>MANUAL</td>\n",
       "      <td>Delhi NCR</td>\n",
       "    </tr>\n",
       "    <tr>\n",
       "      <th>885</th>\n",
       "      <td>2016 Hyundai i10 MAGNA 1.1</td>\n",
       "      <td>Hyundai</td>\n",
       "      <td>i10</td>\n",
       "      <td>2016</td>\n",
       "      <td>309000</td>\n",
       "      <td>PETROL</td>\n",
       "      <td>59405</td>\n",
       "      <td>6,041</td>\n",
       "      <td>MANUAL</td>\n",
       "      <td>Delhi NCR</td>\n",
       "    </tr>\n",
       "    <tr>\n",
       "      <th>886</th>\n",
       "      <td>2019 Maruti Eeco 5 STR WITH A/C+HTR CNG</td>\n",
       "      <td>Maruti</td>\n",
       "      <td>Eeco</td>\n",
       "      <td>2019</td>\n",
       "      <td>468000</td>\n",
       "      <td>CNG</td>\n",
       "      <td>62412</td>\n",
       "      <td>9,149</td>\n",
       "      <td>MANUAL</td>\n",
       "      <td>Delhi NCR</td>\n",
       "    </tr>\n",
       "    <tr>\n",
       "      <th>887</th>\n",
       "      <td>2014 Maruti Alto 800 LXI</td>\n",
       "      <td>Maruti</td>\n",
       "      <td>Alto</td>\n",
       "      <td>2014</td>\n",
       "      <td>227999</td>\n",
       "      <td>PETROL</td>\n",
       "      <td>11865</td>\n",
       "      <td>5,072</td>\n",
       "      <td>MANUAL</td>\n",
       "      <td>Delhi NCR</td>\n",
       "    </tr>\n",
       "  </tbody>\n",
       "</table>\n",
       "<p>2346 rows × 10 columns</p>\n",
       "</div>"
      ],
      "text/plain": [
       "                                       CAR_NAME     BRAND SUB_BRAND  \\\n",
       "0                      2016 Maruti Alto 800 LXI    Maruti      Alto   \n",
       "1                         2015 Maruti Swift VXI    Maruti     Swift   \n",
       "2           2019 Maruti Baleno DELTA PETROL 1.2    Maruti    Baleno   \n",
       "3    2020 Mahindra XUV300 W8 (O) 1.5 DIESEL AMT  Mahindra    XUV300   \n",
       "4                2017 Tata NEXON XZ PLUS PETROL      Tata     NEXON   \n",
       "..                                          ...       ...       ...   \n",
       "883                 2018 Maruti IGNIS DELTA 1.2    Maruti     IGNIS   \n",
       "884         2013 Hyundai Verna FLUIDIC 1.4 VTVT   Hyundai     Verna   \n",
       "885                  2016 Hyundai i10 MAGNA 1.1   Hyundai       i10   \n",
       "886     2019 Maruti Eeco 5 STR WITH A/C+HTR CNG    Maruti      Eeco   \n",
       "887                    2014 Maruti Alto 800 LXI    Maruti      Alto   \n",
       "\n",
       "     MODAL_YEAR  AMOUNT FUEL_TYPE  DIS_COVERED EMI_AMOUNT    Operate  \\\n",
       "0          2016  241000    PETROL        97698      4,712     MANUAL   \n",
       "1          2015  333000    PETROL       102460      7,407     MANUAL   \n",
       "2          2019  557000    PETROL        35190     10,889     MANUAL   \n",
       "3          2020  898000    DIESEL        64038     17,093  AUTOMATIC   \n",
       "4          2017  602000    PETROL        82375     11,769     MANUAL   \n",
       "..          ...     ...       ...          ...        ...        ...   \n",
       "883        2018  424000    PETROL        29766      8,289     MANUAL   \n",
       "884        2013  356000    PETROL        37454      9,375     MANUAL   \n",
       "885        2016  309000    PETROL        59405      6,041     MANUAL   \n",
       "886        2019  468000       CNG        62412      9,149     MANUAL   \n",
       "887        2014  227999    PETROL        11865      5,072     MANUAL   \n",
       "\n",
       "      Location  \n",
       "0    New Delhi  \n",
       "1    New Delhi  \n",
       "2    New Delhi  \n",
       "3    New Delhi  \n",
       "4    New Delhi  \n",
       "..         ...  \n",
       "883  Delhi NCR  \n",
       "884  Delhi NCR  \n",
       "885  Delhi NCR  \n",
       "886  Delhi NCR  \n",
       "887  Delhi NCR  \n",
       "\n",
       "[2346 rows x 10 columns]"
      ]
     },
     "execution_count": 9,
     "metadata": {},
     "output_type": "execute_result"
    }
   ],
   "source": [
    "table"
   ]
  },
  {
   "cell_type": "code",
   "execution_count": 10,
   "id": "7635c667",
   "metadata": {},
   "outputs": [
    {
     "data": {
      "text/html": [
       "<div>\n",
       "<style scoped>\n",
       "    .dataframe tbody tr th:only-of-type {\n",
       "        vertical-align: middle;\n",
       "    }\n",
       "\n",
       "    .dataframe tbody tr th {\n",
       "        vertical-align: top;\n",
       "    }\n",
       "\n",
       "    .dataframe thead th {\n",
       "        text-align: right;\n",
       "    }\n",
       "</style>\n",
       "<table border=\"1\" class=\"dataframe\">\n",
       "  <thead>\n",
       "    <tr style=\"text-align: right;\">\n",
       "      <th></th>\n",
       "      <th>CAR_NAME</th>\n",
       "      <th>BRAND</th>\n",
       "      <th>SUB_BRAND</th>\n",
       "      <th>MODAL_YEAR</th>\n",
       "      <th>AMOUNT</th>\n",
       "      <th>FUEL_TYPE</th>\n",
       "      <th>DIS_COVERED</th>\n",
       "      <th>EMI_AMOUNT</th>\n",
       "      <th>Operate</th>\n",
       "      <th>Location</th>\n",
       "    </tr>\n",
       "  </thead>\n",
       "  <tbody>\n",
       "    <tr>\n",
       "      <th>883</th>\n",
       "      <td>2018 Maruti IGNIS DELTA 1.2</td>\n",
       "      <td>Maruti</td>\n",
       "      <td>IGNIS</td>\n",
       "      <td>2018</td>\n",
       "      <td>424000</td>\n",
       "      <td>PETROL</td>\n",
       "      <td>29766</td>\n",
       "      <td>8,289</td>\n",
       "      <td>MANUAL</td>\n",
       "      <td>Delhi NCR</td>\n",
       "    </tr>\n",
       "    <tr>\n",
       "      <th>884</th>\n",
       "      <td>2013 Hyundai Verna FLUIDIC 1.4 VTVT</td>\n",
       "      <td>Hyundai</td>\n",
       "      <td>Verna</td>\n",
       "      <td>2013</td>\n",
       "      <td>356000</td>\n",
       "      <td>PETROL</td>\n",
       "      <td>37454</td>\n",
       "      <td>9,375</td>\n",
       "      <td>MANUAL</td>\n",
       "      <td>Delhi NCR</td>\n",
       "    </tr>\n",
       "    <tr>\n",
       "      <th>885</th>\n",
       "      <td>2016 Hyundai i10 MAGNA 1.1</td>\n",
       "      <td>Hyundai</td>\n",
       "      <td>i10</td>\n",
       "      <td>2016</td>\n",
       "      <td>309000</td>\n",
       "      <td>PETROL</td>\n",
       "      <td>59405</td>\n",
       "      <td>6,041</td>\n",
       "      <td>MANUAL</td>\n",
       "      <td>Delhi NCR</td>\n",
       "    </tr>\n",
       "    <tr>\n",
       "      <th>886</th>\n",
       "      <td>2019 Maruti Eeco 5 STR WITH A/C+HTR CNG</td>\n",
       "      <td>Maruti</td>\n",
       "      <td>Eeco</td>\n",
       "      <td>2019</td>\n",
       "      <td>468000</td>\n",
       "      <td>CNG</td>\n",
       "      <td>62412</td>\n",
       "      <td>9,149</td>\n",
       "      <td>MANUAL</td>\n",
       "      <td>Delhi NCR</td>\n",
       "    </tr>\n",
       "    <tr>\n",
       "      <th>887</th>\n",
       "      <td>2014 Maruti Alto 800 LXI</td>\n",
       "      <td>Maruti</td>\n",
       "      <td>Alto</td>\n",
       "      <td>2014</td>\n",
       "      <td>227999</td>\n",
       "      <td>PETROL</td>\n",
       "      <td>11865</td>\n",
       "      <td>5,072</td>\n",
       "      <td>MANUAL</td>\n",
       "      <td>Delhi NCR</td>\n",
       "    </tr>\n",
       "  </tbody>\n",
       "</table>\n",
       "</div>"
      ],
      "text/plain": [
       "                                    CAR_NAME    BRAND SUB_BRAND  MODAL_YEAR  \\\n",
       "883              2018 Maruti IGNIS DELTA 1.2   Maruti     IGNIS        2018   \n",
       "884      2013 Hyundai Verna FLUIDIC 1.4 VTVT  Hyundai     Verna        2013   \n",
       "885               2016 Hyundai i10 MAGNA 1.1  Hyundai       i10        2016   \n",
       "886  2019 Maruti Eeco 5 STR WITH A/C+HTR CNG   Maruti      Eeco        2019   \n",
       "887                 2014 Maruti Alto 800 LXI   Maruti      Alto        2014   \n",
       "\n",
       "     AMOUNT FUEL_TYPE  DIS_COVERED EMI_AMOUNT Operate   Location  \n",
       "883  424000    PETROL        29766      8,289  MANUAL  Delhi NCR  \n",
       "884  356000    PETROL        37454      9,375  MANUAL  Delhi NCR  \n",
       "885  309000    PETROL        59405      6,041  MANUAL  Delhi NCR  \n",
       "886  468000       CNG        62412      9,149  MANUAL  Delhi NCR  \n",
       "887  227999    PETROL        11865      5,072  MANUAL  Delhi NCR  "
      ]
     },
     "execution_count": 10,
     "metadata": {},
     "output_type": "execute_result"
    }
   ],
   "source": [
    "table2.tail()"
   ]
  },
  {
   "cell_type": "code",
   "execution_count": 11,
   "id": "bd27af5b",
   "metadata": {},
   "outputs": [
    {
     "data": {
      "text/plain": [
       "Index(['CAR_NAME', 'BRAND', 'SUB_BRAND', 'MODAL_YEAR', 'AMOUNT', 'FUEL_TYPE',\n",
       "       'DIS_COVERED', 'EMI_AMOUNT', 'Operate', 'Location'],\n",
       "      dtype='object')"
      ]
     },
     "execution_count": 11,
     "metadata": {},
     "output_type": "execute_result"
    }
   ],
   "source": [
    "table2.columns"
   ]
  },
  {
   "cell_type": "code",
   "execution_count": 14,
   "id": "8dc21efc",
   "metadata": {
    "collapsed": true
   },
   "outputs": [
    {
     "data": {
      "text/plain": [
       "0      False\n",
       "1      False\n",
       "2      False\n",
       "3      False\n",
       "4      False\n",
       "       ...  \n",
       "883    False\n",
       "884    False\n",
       "885    False\n",
       "886    False\n",
       "887    False\n",
       "Length: 2346, dtype: bool"
      ]
     },
     "execution_count": 14,
     "metadata": {},
     "output_type": "execute_result"
    }
   ],
   "source": [
    "#Check the duplicate value from the data\n",
    "table2.duplicated()"
   ]
  },
  {
   "cell_type": "code",
   "execution_count": 127,
   "id": "41000d01",
   "metadata": {
    "scrolled": true
   },
   "outputs": [],
   "source": [
    "# Drop the Duplicates values \n",
    "table2.drop_duplicates(inplace = True)"
   ]
  },
  {
   "cell_type": "code",
   "execution_count": 130,
   "id": "b00e335d",
   "metadata": {},
   "outputs": [
    {
     "name": "stdout",
     "output_type": "stream",
     "text": [
      "0\n"
     ]
    }
   ],
   "source": [
    "print(table2.duplicated().sum())\n",
    "#Now there is no any duplicate value in the data "
   ]
  },
  {
   "cell_type": "code",
   "execution_count": 131,
   "id": "9d82e8a1",
   "metadata": {},
   "outputs": [
    {
     "data": {
      "text/plain": [
       "CAR_NAME       0\n",
       "BRAND          0\n",
       "SUB_BRAND      0\n",
       "MODAL_YEAR     0\n",
       "AMOUNT         0\n",
       "FUEL_TYPE      0\n",
       "DIS_COVERED    0\n",
       "EMI_AMOUNT     0\n",
       "Operate        0\n",
       "Location       0\n",
       "dtype: int64"
      ]
     },
     "execution_count": 131,
     "metadata": {},
     "output_type": "execute_result"
    }
   ],
   "source": [
    "#Finding out the Null Values \n",
    "table2.isnull().sum()"
   ]
  },
  {
   "cell_type": "code",
   "execution_count": null,
   "id": "c599408e",
   "metadata": {},
   "outputs": [],
   "source": [
    "#Now there is No any NuLL value in the data."
   ]
  },
  {
   "cell_type": "code",
   "execution_count": 129,
   "id": "7e188ee3",
   "metadata": {},
   "outputs": [],
   "source": [
    "table2.to_csv(\"CARS_24_FILE1.csv\",index = False)"
   ]
  },
  {
   "cell_type": "code",
   "execution_count": null,
   "id": "662d026e",
   "metadata": {},
   "outputs": [],
   "source": []
  }
 ],
 "metadata": {
  "kernelspec": {
   "display_name": "Python 3 (ipykernel)",
   "language": "python",
   "name": "python3"
  },
  "language_info": {
   "codemirror_mode": {
    "name": "ipython",
    "version": 3
   },
   "file_extension": ".py",
   "mimetype": "text/x-python",
   "name": "python",
   "nbconvert_exporter": "python",
   "pygments_lexer": "ipython3",
   "version": "3.11.5"
  }
 },
 "nbformat": 4,
 "nbformat_minor": 5
}
